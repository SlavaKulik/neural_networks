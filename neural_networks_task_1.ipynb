{
  "nbformat": 4,
  "nbformat_minor": 0,
  "metadata": {
    "colab": {
      "provenance": [],
      "include_colab_link": true
    },
    "kernelspec": {
      "name": "python3",
      "display_name": "Python 3"
    },
    "language_info": {
      "name": "python"
    }
  },
  "cells": [
    {
      "cell_type": "markdown",
      "metadata": {
        "id": "view-in-github",
        "colab_type": "text"
      },
      "source": [
        "<a href=\"https://colab.research.google.com/github/SlavaKulik/neural_networks/blob/main/neural_networks_task_1.ipynb\" target=\"_parent\"><img src=\"https://colab.research.google.com/assets/colab-badge.svg\" alt=\"Open In Colab\"/></a>"
      ]
    },
    {
      "cell_type": "code",
      "source": [
        "from numpy import exp, array, random, dot\n",
        "\n",
        "class NeuralNetwork():\n",
        "  def __init__(self):\n",
        "    random.seed(1)\n",
        "    self.synaptic_weights = 2 * random.random((3, 1)) - 1\n",
        "  def __sigmoid(self, x):\n",
        "    return 1 / (1 + exp(-x))\n",
        "  def __sigmoid_derivative(self, x):\n",
        "    return x * (1 - x)\n",
        "  def train(self, training_set_inputs, training_set_outputs, number_of_training_iterations):\n",
        "    for iteration in range(number_of_training_iterations):\n",
        "      output = self.think(training_set_inputs)\n",
        "      error = training_set_outputs - output\n",
        "      adjustment = dot(training_set_inputs.T, error * self.__sigmoid_derivative(output))\n",
        "      self.synaptic_weights += adjustment\n",
        "  def think(self, inputs):\n",
        "    return self.__sigmoid(dot(inputs, self.synaptic_weights))\n",
        "if __name__ == \"__main__\":\n",
        "  neural_network = NeuralNetwork()\n",
        "  print (\"Random starting synaptic weights: \")\n",
        "  print (neural_network.synaptic_weights)\n",
        "  training_set_inputs = array([[0, 0, 0], [0, 0, 1], [0, 1, 0], [0, 1, 1], [1, 0, 0], [1, 0, 1]])\n",
        "  training_set_outputs = array([[1, 1, 0, 0, 1, 0]]).T\n",
        "  neural_network.train(training_set_inputs, training_set_outputs, 10000)\n",
        "  print (\"New synaptic weights after training: \")\n",
        "  print (neural_network.synaptic_weights)\n",
        "  print (\"Considering new situation [1, 1, 0] -> ?: \")\n",
        "  print (neural_network.think(array([1, 1, 0])))\n",
        "  print (\"Considering new situation [1, 1, 1] -> ?: \")\n",
        "  print (neural_network.think(array([1, 1, 1])))\n",
        "  print (\"Considering new situation [1, 0, 0] -> ?: \")\n",
        "  print (neural_network.think(array([1, 0, 0])))"
      ],
      "metadata": {
        "id": "r3FpqjA38jQe",
        "colab": {
          "base_uri": "https://localhost:8080/"
        },
        "outputId": "eb1e81c6-2600-415e-e724-9116c56597be"
      },
      "execution_count": 9,
      "outputs": [
        {
          "output_type": "stream",
          "name": "stdout",
          "text": [
            "Random starting synaptic weights: \n",
            "[[-0.16595599]\n",
            " [ 0.44064899]\n",
            " [-0.99977125]]\n",
            "New synaptic weights after training: \n",
            "[[ 1.35987840e-04]\n",
            " [-5.28169826e+00]\n",
            " [-2.71755553e-04]]\n",
            "Considering new situation [1, 1, 0] -> ?: \n",
            "[0.00505876]\n",
            "Considering new situation [1, 1, 1] -> ?: \n",
            "[0.00505739]\n",
            "Considering new situation [1, 0, 0] -> ?: \n",
            "[0.500034]\n"
          ]
        }
      ]
    }
  ]
}