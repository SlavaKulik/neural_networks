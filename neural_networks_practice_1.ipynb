{
  "nbformat": 4,
  "nbformat_minor": 0,
  "metadata": {
    "colab": {
      "provenance": [],
      "include_colab_link": true
    },
    "kernelspec": {
      "name": "python3",
      "display_name": "Python 3"
    },
    "language_info": {
      "name": "python"
    }
  },
  "cells": [
    {
      "cell_type": "markdown",
      "metadata": {
        "id": "view-in-github",
        "colab_type": "text"
      },
      "source": [
        "<a href=\"https://colab.research.google.com/github/SlavaKulik/neural_networks/blob/main/neural_networks_practice_1.ipynb\" target=\"_parent\"><img src=\"https://colab.research.google.com/assets/colab-badge.svg\" alt=\"Open In Colab\"/></a>"
      ]
    },
    {
      "cell_type": "code",
      "source": [
        "from numpy import exp, array, random, dot\n",
        "\n",
        "class NeuralNetwork():\n",
        "  def __init__(self):\n",
        "# Запустимо генератор випадкових чисел, однак від генерує подібні\n",
        "# числа кожного разу під час запуску програми.\n",
        "    random.seed(1)\n",
        "# Моделюємо один нейрон з 3 вхідними з'єднаннями і 1 вихідним з'єднанням\n",
        "# Призначаємо випадкові ваги матриці 3 х 1 зі значеннями в діапазоні від 1 до 1 і середнім 0.\n",
        "    self.synaptic_weights = 2 * random.random((3, 1)) - 1\n",
        "# Сигмоїдна функція, яка описує S-подібну криву.\n",
        "# Передаємо зважену суму входів через цю функцію, щоб нормалізувати їх між 0 і 1.\n",
        "  def __sigmoid(self, x):\n",
        "    return 1 / (1 + exp(-x))\n",
        "# Похідна сигмоїдної функції. Це градієнт сигмоїдної кривої.\n",
        "# Вказує на те, наскільки ми впевнені у існуючій вазі.\n",
        "  def __sigmoid_derivative(self, x):\n",
        "    return x * (1 - x)\n",
        "# Тренуємо нейронну мережу в процесі спроб і помилок.\n",
        "# Регулювання синаптичних ваг кожного разу..\n",
        "  def train(self, training_set_inputs, training_set_outputs, number_of_training_iterations):\n",
        "    for iteration in range(number_of_training_iterations):\n",
        "# Пропустіть навчальний набір через нашу нейронну мережу.\n",
        "      output = self.think(training_set_inputs)\n",
        "# Обчисліть похибку (різниця між бажаним результатом та прогнозованим результатом).\n",
        "      error = training_set_outputs - output\n",
        "# Помножте помилку на вхід і знову на градієнт сигмоїдної кривої.\n",
        "# Це означає, що менш впевнені ваги коригуються більше.\n",
        "# А входи, які дорівнюють нулю, не викликають змін вагових коефіцієнтів.\n",
        "      adjustment = dot(training_set_inputs.T, error * self.__sigmoid_derivative(output))\n",
        "# Відрегулюйте ваги.\n",
        "      self.synaptic_weights += adjustment\n",
        "# Нейронна мережа «думає».\n",
        "  def think(self, inputs):\n",
        "# Передайте вхідні дані через нашу нейронну мережу.\n",
        "    return self.__sigmoid(dot(inputs, self.synaptic_weights))\n",
        "if __name__ == \"__main__\":\n",
        "# Ініціалізуйте єдину нейронну нейронну мережу.\n",
        "  neural_network = NeuralNetwork()\n",
        "  print (\"Random starting synaptic weights: \")\n",
        "  print (neural_network.synaptic_weights)\n",
        "# Навчальний набір. Ми маємо 4 приклади, кожен з яких складається з 3 вхідних значень та 1 вихідного значення.\n",
        "  training_set_inputs = array([[0, 0, 1], [1, 1, 1], [1, 0, 1], [0, 1, 1]])\n",
        "  training_set_outputs = array([[0, 1, 1, 0]]).T\n",
        "# Тренуйте нейронну мережу, використовуючи навчальний набір.\n",
        "# Зробіть це 10 000 разів і щоразу робіть невеликі корективи.\n",
        "  neural_network.train(training_set_inputs, training_set_outputs, 10000)\n",
        "  print (\"New synaptic weights after training: \")\n",
        "  print (neural_network.synaptic_weights)\n",
        "# Перевірте нейронну мережу на нову ситуацію.\n",
        "  print (\"Considering new situation [1, 0, 0] -> ?: \")\n",
        "  print (neural_network.think(array([1, 1, 0])))"
      ],
      "metadata": {
        "id": "r3FpqjA38jQe",
        "colab": {
          "base_uri": "https://localhost:8080/"
        },
        "outputId": "3a447cf7-dac5-462f-c05c-e4e0e449e56b"
      },
      "execution_count": 8,
      "outputs": [
        {
          "output_type": "stream",
          "name": "stdout",
          "text": [
            "Random starting synaptic weights: \n",
            "[[-0.16595599]\n",
            " [ 0.44064899]\n",
            " [-0.99977125]]\n",
            "New synaptic weights after training: \n",
            "[[ 9.67299303]\n",
            " [-0.2078435 ]\n",
            " [-4.62963669]]\n",
            "Considering new situation [1, 0, 0] -> ?: \n",
            "[0.9999225]\n"
          ]
        }
      ]
    }
  ]
}