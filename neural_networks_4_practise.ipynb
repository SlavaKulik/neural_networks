{
  "nbformat": 4,
  "nbformat_minor": 0,
  "metadata": {
    "colab": {
      "provenance": [],
      "authorship_tag": "ABX9TyMcDidc8bIMraIYJp4tUxlT",
      "include_colab_link": true
    },
    "kernelspec": {
      "name": "python3",
      "display_name": "Python 3"
    },
    "language_info": {
      "name": "python"
    }
  },
  "cells": [
    {
      "cell_type": "markdown",
      "metadata": {
        "id": "view-in-github",
        "colab_type": "text"
      },
      "source": [
        "<a href=\"https://colab.research.google.com/github/SlavaKulik/neural_networks/blob/main/neural_networks_4_practise.ipynb\" target=\"_parent\"><img src=\"https://colab.research.google.com/assets/colab-badge.svg\" alt=\"Open In Colab\"/></a>"
      ]
    },
    {
      "cell_type": "code",
      "execution_count": null,
      "metadata": {
        "colab": {
          "base_uri": "https://localhost:8080/",
          "height": 452
        },
        "id": "RnLugW38B8bl",
        "outputId": "3aafb49f-a490-403a-bc3f-daf7d10b874e"
      },
      "outputs": [
        {
          "output_type": "stream",
          "name": "stdout",
          "text": [
            "Train data size:  331\n",
            "Test data size:  111\n"
          ]
        },
        {
          "output_type": "stream",
          "name": "stderr",
          "text": [
            "/usr/local/lib/python3.7/dist-packages/sklearn/neural_network/_multilayer_perceptron.py:549: ConvergenceWarning: lbfgs failed to converge (status=1):\n",
            "STOP: TOTAL NO. of ITERATIONS REACHED LIMIT.\n",
            "\n",
            "Increase the number of iterations (max_iter) or scale the data as shown in:\n",
            "    https://scikit-learn.org/stable/modules/preprocessing.html\n",
            "  self.n_iter_ = _check_optimize_result(\"lbfgs\", opt_res, self.max_iter)\n"
          ]
        },
        {
          "output_type": "stream",
          "name": "stdout",
          "text": [
            "DecisionTree score:  0.1291285649290277\n",
            "MLPRegressor score:  0.24130269333306986\n"
          ]
        },
        {
          "output_type": "display_data",
          "data": {
            "text/plain": [
              "<Figure size 432x288 with 1 Axes>"
            ],
            "image/png": "[encoded data removed]"
          },
          "metadata": {
            "needs_background": "light"
          }
        }
      ],
      "source": [
        "import pandas as pd\n",
        "import matplotlib.pyplot as plt\n",
        "from sklearn.datasets import load_diabetes\n",
        "from sklearn.neural_network import MLPRegressor\n",
        "from sklearn.preprocessing import StandardScaler\n",
        "from sklearn.pipeline import make_pipeline\n",
        "from sklearn.tree import DecisionTreeRegressor\n",
        "from sklearn.inspection import PartialDependenceDisplay\n",
        "from sklearn.model_selection import train_test_split\n",
        " \n",
        "diabetes = load_diabetes()\n",
        "X = pd.DataFrame(diabetes.data, columns=diabetes.feature_names)\n",
        "y = diabetes.target\n",
        " \n",
        "X_train, X_test, y_train, y_test = train_test_split(X, y, random_state=1, test_size=0.25)\n",
        "\n",
        "print(\"Train data size: \", y_train.size)\n",
        "print(\"Test data size: \", y_test.size)\n",
        "\n",
        "tree = DecisionTreeRegressor(min_samples_leaf=100)\n",
        "mlp = make_pipeline(\n",
        "    StandardScaler(),\n",
        "    MLPRegressor(activation='tanh', solver='lbfgs', hidden_layer_sizes=(5, 5), tol=1e-2, max_iter=500, random_state=0),\n",
        ")\n",
        "\n",
        "tree.fit(X_train, y_train)\n",
        "mlp.fit(X_train, y_train)\n",
        "\n",
        "print(\"DecisionTree score: \", tree.score(X_test, y_test))\n",
        "print(\"MLPRegressor score: \", mlp.score(X_test, y_test))\n",
        "\n",
        "pred_tr = tree.predict(X_test[:20])\n",
        "pred_nn = mlp.predict(X_test[:20])\n",
        " \n",
        "plt.figure()\n",
        "plt.plot(pred_tr, \"gd\", label=\"DecisionTreeRegressor\")\n",
        "plt.plot(pred_nn, \"b^\", label=\"MLPRegressor\")\n",
        "plt.plot(y_test[:20], \"ys\", label=\"Real Target\")\n",
        "\n",
        "plt.tick_params(axis=\"x\", which=\"both\", bottom=False, top=False, labelbottom=False)\n",
        "plt.ylabel(\"predicted\")\n",
        "plt.xlabel(\"training samples\")\n",
        "plt.legend(loc=\"best\")\n",
        "plt.title(\"Regressor predictions\")\n",
        "\n",
        "plt.show()"
      ]
    }
  ]
}