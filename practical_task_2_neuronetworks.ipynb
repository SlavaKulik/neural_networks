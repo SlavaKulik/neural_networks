{
  "nbformat": 4,
  "nbformat_minor": 0,
  "metadata": {
    "colab": {
      "provenance": [],
      "authorship_tag": "ABX9TyM3AjOrGSBPKZiE+jN9tEHF",
      "include_colab_link": true
    },
    "kernelspec": {
      "name": "python3",
      "display_name": "Python 3"
    },
    "language_info": {
      "name": "python"
    }
  },
  "cells": [
    {
      "cell_type": "markdown",
      "metadata": {
        "id": "view-in-github",
        "colab_type": "text"
      },
      "source": [
        "<a href=\"https://colab.research.google.com/github/SlavaKulik/neural_networks/blob/main/practical_task_2_neuronetworks.ipynb\" target=\"_parent\"><img src=\"https://colab.research.google.com/assets/colab-badge.svg\" alt=\"Open In Colab\"/></a>"
      ]
    },
    {
      "cell_type": "code",
      "execution_count": null,
      "metadata": {
        "id": "wM6_5iMiyXjD"
      },
      "outputs": [],
      "source": [
        "import math\n",
        "import numpy as np\n",
        "import tensorflow as tf\n",
        "import matplotlib.pyplot as plt"
      ]
    },
    {
      "cell_type": "code",
      "source": [
        "tf.compat.v1.disable_eager_execution()"
      ],
      "metadata": {
        "id": "tueeAlhD01E6"
      },
      "execution_count": null,
      "outputs": []
    },
    {
      "cell_type": "code",
      "source": [
        "x0, x1 = -10, -5 # діапазон аргументу функції\n",
        "test_data_size = 2000 # кількість даних для ітераціі навчання\n",
        "iterations = 20000 # кількість ітерацій навчання\n",
        "learn_rate = 0.015 # коефіціент перенавчання\n",
        "\n",
        "hiddenSize = 10 # кількість нейронів прихованого шару\n",
        "# функція генерації тестових величин\n",
        "def generate_test_values():\n",
        "  train_x = []\n",
        "  train_y = []\n",
        "  for _ in range(test_data_size):\n",
        "    x = x0+(x1-x0)*np.random.rand()\n",
        "    y = math.exp(0.5*x) + math.pow(math.cos(x), 2)  # досліджувана функція\n",
        "    train_x.append([x])\n",
        "    train_y.append([y])\n",
        "  return np.array(train_x), np.array(train_y)\n",
        "\n",
        "# вузол, на який подаються аргументи функції\n",
        "x = tf.compat.v1.placeholder(tf.float32, [None, 1], name=\"x\")\n",
        "# вузол, на який подаються значення функції\n",
        "y = tf.compat.v1.placeholder(tf.float32, [None, 1], name=\"y\")\n",
        "# прихований шар\n",
        "nn = tf.compat.v1.layers.dense(x, hiddenSize,\n",
        "activation=tf.nn.sigmoid,kernel_initializer=tf.initializers.ones(), bias_initializer=tf.initializers.random_uniform(minval=-x1, maxval=-x0), name=\"hidden\", reuse=True)\n",
        "# вихідний шар\n",
        "model = tf.compat.v1.layers.dense(nn, 1, activation=None, name=\"output\", reuse=True)\n",
        "\n",
        "# функція підрахунку помилки\n",
        "cost = tf.compat.v1.losses.mean_squared_error(y, model)\n",
        "train = tf.compat.v1.train.GradientDescentOptimizer(learn_rate).minimize(cost)\n",
        "\n",
        "init = tf.compat.v1.global_variables_initializer()\n",
        "with tf.compat.v1.Session() as session:\n",
        "  session.run(init)\n",
        "  for _ in range(iterations):\n",
        "    train_dataset, train_values = generate_test_values()\n",
        "    session.run(train, feed_dict={\n",
        "      x: train_dataset,\n",
        "      y: train_values\n",
        "    })\n",
        "    if(_ % 1000 == 999):\n",
        "      print(\"cost = {}\".format(session.run(cost, feed_dict={\n",
        "          x: train_dataset,\n",
        "          y: train_values\n",
        "      })))\n",
        "  train_dataset, train_values = generate_test_values()\n",
        "  train_values1 = session.run(model, feed_dict={\n",
        "      x: train_dataset,\n",
        "      })\n",
        "  plt.plot(train_dataset, train_values, \"bo\", train_dataset, train_values1, \"ro\")\n",
        "  plt.show()\n",
        "  with tf.compat.v1.variable_scope(\"hidden\", reuse=True):\n",
        "    w = tf.compat.v1.get_variable(\"kernel\")\n",
        "    b = tf.compat.v1.get_variable(\"bias\")\n",
        "    print(\"hidden:\")\n",
        "    print(\"kernel=\", w.eval())\n",
        "    print(\"bias = \", b.eval())\n",
        "  with tf.compat.v1.variable_scope(\"output\", reuse=True):\n",
        "    w = tf.compat.v1.get_variable(\"kernel\")\n",
        "    b = tf.compat.v1.get_variable(\"bias\")\n",
        "    print(\"output:\")\n",
        "    print(\"kernel=\", w.eval())\n",
        "    print(\"bias = \", b.eval())"
      ],
      "metadata": {
        "colab": {
          "base_uri": "https://localhost:8080/",
          "height": 962
        },
        "id": "ccnGjA6K03ha",
        "outputId": "d3801839-2f97-4f70-9d3f-b85375c6e7ba"
      },
      "execution_count": null,
      "outputs": [
        {
          "output_type": "stream",
          "name": "stderr",
          "text": [
            "/usr/local/lib/python3.7/dist-packages/ipykernel_launcher.py:24: UserWarning: `tf.layers.dense` is deprecated and will be removed in a future version. Please use `tf.keras.layers.Dense` instead.\n",
            "/usr/local/lib/python3.7/dist-packages/ipykernel_launcher.py:26: UserWarning: `tf.layers.dense` is deprecated and will be removed in a future version. Please use `tf.keras.layers.Dense` instead.\n"
          ]
        },
        {
          "output_type": "stream",
          "name": "stdout",
          "text": [
            "cost = 0.08348394185304642\n",
            "cost = 0.07569624483585358\n",
            "cost = 0.07186286896467209\n",
            "cost = 0.07096172869205475\n",
            "cost = 0.07224097847938538\n",
            "cost = 0.06721984595060349\n",
            "cost = 0.06642523407936096\n",
            "cost = 0.06449844688177109\n",
            "cost = 0.061110351234674454\n",
            "cost = 0.05981610715389252\n",
            "cost = 0.059212472289800644\n",
            "cost = 0.05737689509987831\n",
            "cost = 0.05554206669330597\n",
            "cost = 0.05439445376396179\n",
            "cost = 0.050613127648830414\n",
            "cost = 0.04849284142255783\n",
            "cost = 0.0477440170943737\n",
            "cost = 0.04658786952495575\n",
            "cost = 0.044435080140829086\n",
            "cost = 0.04417230188846588\n"
          ]
        },
        {
          "output_type": "display_data",
          "data": {
            "text/plain": [
              "<Figure size 432x288 with 1 Axes>"
            ],
            "image/png": "[encoded data removed]"
          },
          "metadata": {
            "needs_background": "light"
          }
        },
        {
          "output_type": "stream",
          "name": "stdout",
          "text": [
            "hidden:\n",
            "kernel= [[0.69381243 0.5567947  0.6077904  1.2081108  1.1437917  1.1321216\n",
            "  0.5948724  1.1326112  1.0176163  0.9154685 ]]\n",
            "bias =  [ 5.2376056  7.990409   9.232195   5.8472214  8.112733  10.080726\n",
            "  9.226977  10.085098   7.2557106  8.348613 ]\n",
            "output:\n",
            "kernel= [[ 0.28547463]\n",
            " [ 0.6027451 ]\n",
            " [ 0.5377524 ]\n",
            " [-2.6636715 ]\n",
            " [ 1.9471352 ]\n",
            " [-1.2164104 ]\n",
            " [ 0.59648293]\n",
            " [-1.1324813 ]\n",
            " [ 1.2021241 ]\n",
            " [-1.0402924 ]]\n",
            "bias =  [0.16953914]\n"
          ]
        }
      ]
    }
  ]
}